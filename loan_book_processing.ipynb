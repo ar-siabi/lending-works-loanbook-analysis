{
 "cells": [
  {
   "cell_type": "code",
   "execution_count": 1,
   "metadata": {},
   "outputs": [],
   "source": [
    "import pandas as pd\n",
    "import numpy as np\n",
    "\n",
    "from dateutil.relativedelta import relativedelta\n",
    "\n",
    "from datetime import *"
   ]
  },
  {
   "cell_type": "markdown",
   "metadata": {},
   "source": [
    "# I. Processing\n",
    "\n",
    "## Import loan book as a dataframe"
   ]
  },
  {
   "cell_type": "code",
   "execution_count": 2,
   "metadata": {},
   "outputs": [
    {
     "data": {
      "text/html": [
       "<div>\n",
       "<style scoped>\n",
       "    .dataframe tbody tr th:only-of-type {\n",
       "        vertical-align: middle;\n",
       "    }\n",
       "\n",
       "    .dataframe tbody tr th {\n",
       "        vertical-align: top;\n",
       "    }\n",
       "\n",
       "    .dataframe thead th {\n",
       "        text-align: right;\n",
       "    }\n",
       "</style>\n",
       "<table border=\"1\" class=\"dataframe\">\n",
       "  <thead>\n",
       "    <tr style=\"text-align: right;\">\n",
       "      <th></th>\n",
       "      <th>LoanID</th>\n",
       "      <th>BorrowerID</th>\n",
       "      <th>Day of StartDate</th>\n",
       "      <th>Term</th>\n",
       "      <th>Day of MaturityDate</th>\n",
       "      <th>Security</th>\n",
       "      <th>ShieldCoverage</th>\n",
       "      <th>LoanPurpose</th>\n",
       "      <th>LoanStatus</th>\n",
       "      <th>RepaymentStatus</th>\n",
       "      <th>RepaymentType</th>\n",
       "      <th>default_reason</th>\n",
       "      <th>StartDate</th>\n",
       "      <th>Amount</th>\n",
       "      <th>GrossRate</th>\n",
       "      <th>grossrate</th>\n",
       "      <th>PrincipalOutstanding</th>\n",
       "      <th>prinipaloutstanding</th>\n",
       "      <th>term</th>\n",
       "    </tr>\n",
       "  </thead>\n",
       "  <tbody>\n",
       "    <tr>\n",
       "      <th>0</th>\n",
       "      <td>42371</td>\n",
       "      <td>4427454</td>\n",
       "      <td>8 November 2021</td>\n",
       "      <td>36 months</td>\n",
       "      <td>8 November 2024</td>\n",
       "      <td>Unsecured</td>\n",
       "      <td>Yes</td>\n",
       "      <td>Personal Loan</td>\n",
       "      <td>Active</td>\n",
       "      <td>Repaying</td>\n",
       "      <td>Amortising</td>\n",
       "      <td>NaN</td>\n",
       "      <td>08/11/2021</td>\n",
       "      <td>21000.0</td>\n",
       "      <td>0.04</td>\n",
       "      <td>4.00157</td>\n",
       "      <td>20480.46</td>\n",
       "      <td>20480.46</td>\n",
       "      <td>36</td>\n",
       "    </tr>\n",
       "    <tr>\n",
       "      <th>1</th>\n",
       "      <td>42241</td>\n",
       "      <td>4425173</td>\n",
       "      <td>3 November 2021</td>\n",
       "      <td>24 months</td>\n",
       "      <td>14 December 2021</td>\n",
       "      <td>Unsecured</td>\n",
       "      <td>Yes</td>\n",
       "      <td>Personal Loan</td>\n",
       "      <td>Settled</td>\n",
       "      <td>Repaid</td>\n",
       "      <td>Amortising</td>\n",
       "      <td>NaN</td>\n",
       "      <td>03/11/2021</td>\n",
       "      <td>1070.0</td>\n",
       "      <td>0.04</td>\n",
       "      <td>4.00157</td>\n",
       "      <td>0.00</td>\n",
       "      <td>0.00</td>\n",
       "      <td>24</td>\n",
       "    </tr>\n",
       "    <tr>\n",
       "      <th>2</th>\n",
       "      <td>42265</td>\n",
       "      <td>4428233</td>\n",
       "      <td>3 November 2021</td>\n",
       "      <td>60 months</td>\n",
       "      <td>20 November 2026</td>\n",
       "      <td>Unsecured</td>\n",
       "      <td>Yes</td>\n",
       "      <td>Personal Loan</td>\n",
       "      <td>Active</td>\n",
       "      <td>Repaying</td>\n",
       "      <td>Amortising</td>\n",
       "      <td>NaN</td>\n",
       "      <td>03/11/2021</td>\n",
       "      <td>5250.0</td>\n",
       "      <td>0.04</td>\n",
       "      <td>4.00157</td>\n",
       "      <td>5190.02</td>\n",
       "      <td>5190.02</td>\n",
       "      <td>60</td>\n",
       "    </tr>\n",
       "    <tr>\n",
       "      <th>3</th>\n",
       "      <td>42213</td>\n",
       "      <td>3503532</td>\n",
       "      <td>2 November 2021</td>\n",
       "      <td>60 months</td>\n",
       "      <td>2 November 2026</td>\n",
       "      <td>Unsecured</td>\n",
       "      <td>Yes</td>\n",
       "      <td>Personal Loan</td>\n",
       "      <td>Active</td>\n",
       "      <td>Repaying</td>\n",
       "      <td>Amortising</td>\n",
       "      <td>NaN</td>\n",
       "      <td>02/11/2021</td>\n",
       "      <td>5250.0</td>\n",
       "      <td>0.04</td>\n",
       "      <td>4.00157</td>\n",
       "      <td>5176.92</td>\n",
       "      <td>5176.92</td>\n",
       "      <td>60</td>\n",
       "    </tr>\n",
       "    <tr>\n",
       "      <th>4</th>\n",
       "      <td>42216</td>\n",
       "      <td>3829305</td>\n",
       "      <td>2 November 2021</td>\n",
       "      <td>60 months</td>\n",
       "      <td>2 November 2026</td>\n",
       "      <td>Unsecured</td>\n",
       "      <td>Yes</td>\n",
       "      <td>Personal Loan</td>\n",
       "      <td>Active</td>\n",
       "      <td>Repaying</td>\n",
       "      <td>Amortising</td>\n",
       "      <td>NaN</td>\n",
       "      <td>02/11/2021</td>\n",
       "      <td>8925.0</td>\n",
       "      <td>0.04</td>\n",
       "      <td>4.00157</td>\n",
       "      <td>8801.00</td>\n",
       "      <td>8801.00</td>\n",
       "      <td>60</td>\n",
       "    </tr>\n",
       "  </tbody>\n",
       "</table>\n",
       "</div>"
      ],
      "text/plain": [
       "   LoanID  BorrowerID Day of StartDate       Term Day of MaturityDate  \\\n",
       "0   42371     4427454  8 November 2021  36 months     8 November 2024   \n",
       "1   42241     4425173  3 November 2021  24 months    14 December 2021   \n",
       "2   42265     4428233  3 November 2021  60 months    20 November 2026   \n",
       "3   42213     3503532  2 November 2021  60 months     2 November 2026   \n",
       "4   42216     3829305  2 November 2021  60 months     2 November 2026   \n",
       "\n",
       "    Security ShieldCoverage    LoanPurpose LoanStatus RepaymentStatus  \\\n",
       "0  Unsecured            Yes  Personal Loan     Active        Repaying   \n",
       "1  Unsecured            Yes  Personal Loan    Settled          Repaid   \n",
       "2  Unsecured            Yes  Personal Loan     Active        Repaying   \n",
       "3  Unsecured            Yes  Personal Loan     Active        Repaying   \n",
       "4  Unsecured            Yes  Personal Loan     Active        Repaying   \n",
       "\n",
       "  RepaymentType default_reason   StartDate   Amount  GrossRate  grossrate  \\\n",
       "0    Amortising            NaN  08/11/2021  21000.0       0.04    4.00157   \n",
       "1    Amortising            NaN  03/11/2021   1070.0       0.04    4.00157   \n",
       "2    Amortising            NaN  03/11/2021   5250.0       0.04    4.00157   \n",
       "3    Amortising            NaN  02/11/2021   5250.0       0.04    4.00157   \n",
       "4    Amortising            NaN  02/11/2021   8925.0       0.04    4.00157   \n",
       "\n",
       "   PrincipalOutstanding  prinipaloutstanding  term  \n",
       "0              20480.46             20480.46    36  \n",
       "1                  0.00                 0.00    24  \n",
       "2               5190.02              5190.02    60  \n",
       "3               5176.92              5176.92    60  \n",
       "4               8801.00              8801.00    60  "
      ]
     },
     "execution_count": 2,
     "metadata": {},
     "output_type": "execute_result"
    }
   ],
   "source": [
    "loan_book_df = pd.read_csv('Loan_Book.csv', delimiter='\\t')\n",
    "\n",
    "loan_book_df.head()"
   ]
  },
  {
   "cell_type": "markdown",
   "metadata": {},
   "source": [
    "## Organising Data\n",
    "\n",
    "### 1. Remove redundant columns in loan book \n",
    "_StartDate (str), Maturity Date (str), Term (str), Security, Shield Coverage, RepaymentType, , GrossRate (float, 2.sf), principaloutstanding_"
   ]
  },
  {
   "cell_type": "code",
   "execution_count": 3,
   "metadata": {},
   "outputs": [],
   "source": [
    "loans_df = loan_book_df.loc[:, ~loan_book_df.columns.isin(['Day of StartDate','Term','Day of MaturityDate', 'Security', 'ShieldCoverage','RepaymentType','prinipaloutstanding', 'GrossRate'])]"
   ]
  },
  {
   "cell_type": "markdown",
   "metadata": {},
   "source": [
    "### 2. Group loans by their borrowers\n",
    "\n",
    "This section was carried out in part II \"Data Cleansing\" to make borrowers records accurate"
   ]
  },
  {
   "cell_type": "markdown",
   "metadata": {},
   "source": [
    "### 3. Maturity date of loans (datetime format)"
   ]
  },
  {
   "cell_type": "code",
   "execution_count": 4,
   "metadata": {},
   "outputs": [
    {
     "name": "stderr",
     "output_type": "stream",
     "text": [
      "C:\\Users\\arsia\\Anaconda3\\lib\\site-packages\\pandas\\core\\indexing.py:845: SettingWithCopyWarning: \n",
      "A value is trying to be set on a copy of a slice from a DataFrame.\n",
      "Try using .loc[row_indexer,col_indexer] = value instead\n",
      "\n",
      "See the caveats in the documentation: https://pandas.pydata.org/pandas-docs/stable/user_guide/indexing.html#returning-a-view-versus-a-copy\n",
      "  self.obj[key] = _infer_fill_value(value)\n",
      "C:\\Users\\arsia\\Anaconda3\\lib\\site-packages\\pandas\\core\\indexing.py:966: SettingWithCopyWarning: \n",
      "A value is trying to be set on a copy of a slice from a DataFrame.\n",
      "Try using .loc[row_indexer,col_indexer] = value instead\n",
      "\n",
      "See the caveats in the documentation: https://pandas.pydata.org/pandas-docs/stable/user_guide/indexing.html#returning-a-view-versus-a-copy\n",
      "  self.obj[item] = s\n"
     ]
    },
    {
     "data": {
      "text/html": [
       "<div>\n",
       "<style scoped>\n",
       "    .dataframe tbody tr th:only-of-type {\n",
       "        vertical-align: middle;\n",
       "    }\n",
       "\n",
       "    .dataframe tbody tr th {\n",
       "        vertical-align: top;\n",
       "    }\n",
       "\n",
       "    .dataframe thead th {\n",
       "        text-align: right;\n",
       "    }\n",
       "</style>\n",
       "<table border=\"1\" class=\"dataframe\">\n",
       "  <thead>\n",
       "    <tr style=\"text-align: right;\">\n",
       "      <th></th>\n",
       "      <th>LoanID</th>\n",
       "      <th>BorrowerID</th>\n",
       "      <th>LoanPurpose</th>\n",
       "      <th>LoanStatus</th>\n",
       "      <th>RepaymentStatus</th>\n",
       "      <th>default_reason</th>\n",
       "      <th>StartDate</th>\n",
       "      <th>Amount</th>\n",
       "      <th>grossrate</th>\n",
       "      <th>PrincipalOutstanding</th>\n",
       "      <th>term</th>\n",
       "      <th>MaturityDate</th>\n",
       "    </tr>\n",
       "  </thead>\n",
       "  <tbody>\n",
       "    <tr>\n",
       "      <th>0</th>\n",
       "      <td>42371</td>\n",
       "      <td>4427454</td>\n",
       "      <td>Personal Loan</td>\n",
       "      <td>Active</td>\n",
       "      <td>Repaying</td>\n",
       "      <td>NaN</td>\n",
       "      <td>08/11/2021</td>\n",
       "      <td>21000.0</td>\n",
       "      <td>4.00157</td>\n",
       "      <td>20480.46</td>\n",
       "      <td>36</td>\n",
       "      <td>2024-11-08</td>\n",
       "    </tr>\n",
       "    <tr>\n",
       "      <th>1</th>\n",
       "      <td>42241</td>\n",
       "      <td>4425173</td>\n",
       "      <td>Personal Loan</td>\n",
       "      <td>Settled</td>\n",
       "      <td>Repaid</td>\n",
       "      <td>NaN</td>\n",
       "      <td>03/11/2021</td>\n",
       "      <td>1070.0</td>\n",
       "      <td>4.00157</td>\n",
       "      <td>0.00</td>\n",
       "      <td>24</td>\n",
       "      <td>2021-12-14</td>\n",
       "    </tr>\n",
       "    <tr>\n",
       "      <th>2</th>\n",
       "      <td>42265</td>\n",
       "      <td>4428233</td>\n",
       "      <td>Personal Loan</td>\n",
       "      <td>Active</td>\n",
       "      <td>Repaying</td>\n",
       "      <td>NaN</td>\n",
       "      <td>03/11/2021</td>\n",
       "      <td>5250.0</td>\n",
       "      <td>4.00157</td>\n",
       "      <td>5190.02</td>\n",
       "      <td>60</td>\n",
       "      <td>2026-11-20</td>\n",
       "    </tr>\n",
       "    <tr>\n",
       "      <th>3</th>\n",
       "      <td>42213</td>\n",
       "      <td>3503532</td>\n",
       "      <td>Personal Loan</td>\n",
       "      <td>Active</td>\n",
       "      <td>Repaying</td>\n",
       "      <td>NaN</td>\n",
       "      <td>02/11/2021</td>\n",
       "      <td>5250.0</td>\n",
       "      <td>4.00157</td>\n",
       "      <td>5176.92</td>\n",
       "      <td>60</td>\n",
       "      <td>2026-11-02</td>\n",
       "    </tr>\n",
       "    <tr>\n",
       "      <th>4</th>\n",
       "      <td>42216</td>\n",
       "      <td>3829305</td>\n",
       "      <td>Personal Loan</td>\n",
       "      <td>Active</td>\n",
       "      <td>Repaying</td>\n",
       "      <td>NaN</td>\n",
       "      <td>02/11/2021</td>\n",
       "      <td>8925.0</td>\n",
       "      <td>4.00157</td>\n",
       "      <td>8801.00</td>\n",
       "      <td>60</td>\n",
       "      <td>2026-11-02</td>\n",
       "    </tr>\n",
       "  </tbody>\n",
       "</table>\n",
       "</div>"
      ],
      "text/plain": [
       "   LoanID  BorrowerID    LoanPurpose LoanStatus RepaymentStatus  \\\n",
       "0   42371     4427454  Personal Loan     Active        Repaying   \n",
       "1   42241     4425173  Personal Loan    Settled          Repaid   \n",
       "2   42265     4428233  Personal Loan     Active        Repaying   \n",
       "3   42213     3503532  Personal Loan     Active        Repaying   \n",
       "4   42216     3829305  Personal Loan     Active        Repaying   \n",
       "\n",
       "  default_reason   StartDate   Amount  grossrate  PrincipalOutstanding  term  \\\n",
       "0            NaN  08/11/2021  21000.0    4.00157              20480.46    36   \n",
       "1            NaN  03/11/2021   1070.0    4.00157                  0.00    24   \n",
       "2            NaN  03/11/2021   5250.0    4.00157               5190.02    60   \n",
       "3            NaN  02/11/2021   5250.0    4.00157               5176.92    60   \n",
       "4            NaN  02/11/2021   8925.0    4.00157               8801.00    60   \n",
       "\n",
       "  MaturityDate  \n",
       "0   2024-11-08  \n",
       "1   2021-12-14  \n",
       "2   2026-11-20  \n",
       "3   2026-11-02  \n",
       "4   2026-11-02  "
      ]
     },
     "execution_count": 4,
     "metadata": {},
     "output_type": "execute_result"
    }
   ],
   "source": [
    "loans_df.loc[:, 'MaturityDate'] = pd.to_datetime(loan_book_df['Day of MaturityDate'], dayfirst=True)\n",
    "loans_df.head(5)"
   ]
  },
  {
   "cell_type": "markdown",
   "metadata": {},
   "source": [
    "### 4. Delete loan_book_df to reduce memory usage"
   ]
  },
  {
   "cell_type": "code",
   "execution_count": 5,
   "metadata": {},
   "outputs": [],
   "source": [
    "del loan_book_df"
   ]
  },
  {
   "cell_type": "markdown",
   "metadata": {},
   "source": [
    "# II. Data Cleansing\n",
    "\n",
    "## 1. Incomplete entries, missing data, string spelling\n",
    "\n",
    "- No missing values (NaN) in columns other than default_reason\n",
    "\n",
    "### a) Defaulted loans with no default reason given"
   ]
  },
  {
   "cell_type": "code",
   "execution_count": 6,
   "metadata": {},
   "outputs": [
    {
     "data": {
      "text/html": [
       "<div>\n",
       "<style scoped>\n",
       "    .dataframe tbody tr th:only-of-type {\n",
       "        vertical-align: middle;\n",
       "    }\n",
       "\n",
       "    .dataframe tbody tr th {\n",
       "        vertical-align: top;\n",
       "    }\n",
       "\n",
       "    .dataframe thead th {\n",
       "        text-align: right;\n",
       "    }\n",
       "</style>\n",
       "<table border=\"1\" class=\"dataframe\">\n",
       "  <thead>\n",
       "    <tr style=\"text-align: right;\">\n",
       "      <th></th>\n",
       "      <th>LoanID</th>\n",
       "      <th>LoanStatus</th>\n",
       "      <th>default_reason</th>\n",
       "    </tr>\n",
       "  </thead>\n",
       "  <tbody>\n",
       "    <tr>\n",
       "      <th>98</th>\n",
       "      <td>41263</td>\n",
       "      <td>Defaulted</td>\n",
       "      <td>NaN</td>\n",
       "    </tr>\n",
       "    <tr>\n",
       "      <th>622</th>\n",
       "      <td>40736</td>\n",
       "      <td>Defaulted</td>\n",
       "      <td>NaN</td>\n",
       "    </tr>\n",
       "    <tr>\n",
       "      <th>659</th>\n",
       "      <td>40676</td>\n",
       "      <td>Defaulted</td>\n",
       "      <td>NaN</td>\n",
       "    </tr>\n",
       "    <tr>\n",
       "      <th>850</th>\n",
       "      <td>40515</td>\n",
       "      <td>Defaulted</td>\n",
       "      <td>NaN</td>\n",
       "    </tr>\n",
       "    <tr>\n",
       "      <th>883</th>\n",
       "      <td>40488</td>\n",
       "      <td>Defaulted</td>\n",
       "      <td>NaN</td>\n",
       "    </tr>\n",
       "  </tbody>\n",
       "</table>\n",
       "</div>"
      ],
      "text/plain": [
       "     LoanID LoanStatus default_reason\n",
       "98    41263  Defaulted            NaN\n",
       "622   40736  Defaulted            NaN\n",
       "659   40676  Defaulted            NaN\n",
       "850   40515  Defaulted            NaN\n",
       "883   40488  Defaulted            NaN"
      ]
     },
     "execution_count": 6,
     "metadata": {},
     "output_type": "execute_result"
    }
   ],
   "source": [
    "loans_df.loc[(loans_df['default_reason'].isnull())  & (loans_df['LoanStatus']==\"Defaulted\")][['LoanID','LoanStatus','default_reason']].head(5)"
   ]
  },
  {
   "cell_type": "code",
   "execution_count": 7,
   "metadata": {},
   "outputs": [
    {
     "data": {
      "text/html": [
       "<div>\n",
       "<style scoped>\n",
       "    .dataframe tbody tr th:only-of-type {\n",
       "        vertical-align: middle;\n",
       "    }\n",
       "\n",
       "    .dataframe tbody tr th {\n",
       "        vertical-align: top;\n",
       "    }\n",
       "\n",
       "    .dataframe thead th {\n",
       "        text-align: right;\n",
       "    }\n",
       "</style>\n",
       "<table border=\"1\" class=\"dataframe\">\n",
       "  <thead>\n",
       "    <tr style=\"text-align: right;\">\n",
       "      <th></th>\n",
       "      <th>LoanID</th>\n",
       "      <th>LoanStatus</th>\n",
       "      <th>default_reason</th>\n",
       "    </tr>\n",
       "  </thead>\n",
       "  <tbody>\n",
       "    <tr>\n",
       "      <th>98</th>\n",
       "      <td>41263</td>\n",
       "      <td>Defaulted</td>\n",
       "      <td>Unspecified</td>\n",
       "    </tr>\n",
       "    <tr>\n",
       "      <th>622</th>\n",
       "      <td>40736</td>\n",
       "      <td>Defaulted</td>\n",
       "      <td>Unspecified</td>\n",
       "    </tr>\n",
       "    <tr>\n",
       "      <th>659</th>\n",
       "      <td>40676</td>\n",
       "      <td>Defaulted</td>\n",
       "      <td>Unspecified</td>\n",
       "    </tr>\n",
       "    <tr>\n",
       "      <th>850</th>\n",
       "      <td>40515</td>\n",
       "      <td>Defaulted</td>\n",
       "      <td>Unspecified</td>\n",
       "    </tr>\n",
       "    <tr>\n",
       "      <th>883</th>\n",
       "      <td>40488</td>\n",
       "      <td>Defaulted</td>\n",
       "      <td>Unspecified</td>\n",
       "    </tr>\n",
       "  </tbody>\n",
       "</table>\n",
       "</div>"
      ],
      "text/plain": [
       "     LoanID LoanStatus default_reason\n",
       "98    41263  Defaulted    Unspecified\n",
       "622   40736  Defaulted    Unspecified\n",
       "659   40676  Defaulted    Unspecified\n",
       "850   40515  Defaulted    Unspecified\n",
       "883   40488  Defaulted    Unspecified"
      ]
     },
     "execution_count": 7,
     "metadata": {},
     "output_type": "execute_result"
    }
   ],
   "source": [
    "loans_df.loc[(loans_df['default_reason'].isnull())  & (loans_df['LoanStatus']==\"Defaulted\"),\"default_reason\"] = \"Unspecified\"\n",
    "loans_df.loc[(loans_df['default_reason']==\"Unspecified\")  & (loans_df['LoanStatus']==\"Defaulted\")][['LoanID','LoanStatus','default_reason']].head(5)"
   ]
  },
  {
   "cell_type": "markdown",
   "metadata": {},
   "source": [
    "### b) Spelling correction for Partial Settlements"
   ]
  },
  {
   "cell_type": "code",
   "execution_count": 8,
   "metadata": {},
   "outputs": [
    {
     "data": {
      "text/html": [
       "<div>\n",
       "<style scoped>\n",
       "    .dataframe tbody tr th:only-of-type {\n",
       "        vertical-align: middle;\n",
       "    }\n",
       "\n",
       "    .dataframe tbody tr th {\n",
       "        vertical-align: top;\n",
       "    }\n",
       "\n",
       "    .dataframe thead th {\n",
       "        text-align: right;\n",
       "    }\n",
       "</style>\n",
       "<table border=\"1\" class=\"dataframe\">\n",
       "  <thead>\n",
       "    <tr style=\"text-align: right;\">\n",
       "      <th></th>\n",
       "      <th>LoanID</th>\n",
       "      <th>LoanStatus</th>\n",
       "      <th>default_reason</th>\n",
       "    </tr>\n",
       "  </thead>\n",
       "  <tbody>\n",
       "    <tr>\n",
       "      <th>522</th>\n",
       "      <td>40833</td>\n",
       "      <td>Defaulted</td>\n",
       "      <td>artial Settlement</td>\n",
       "    </tr>\n",
       "    <tr>\n",
       "      <th>12847</th>\n",
       "      <td>28668</td>\n",
       "      <td>Defaulted</td>\n",
       "      <td>artial Settlement</td>\n",
       "    </tr>\n",
       "    <tr>\n",
       "      <th>12848</th>\n",
       "      <td>2382</td>\n",
       "      <td>Defaulted</td>\n",
       "      <td>artial Settlement</td>\n",
       "    </tr>\n",
       "  </tbody>\n",
       "</table>\n",
       "</div>"
      ],
      "text/plain": [
       "       LoanID LoanStatus     default_reason\n",
       "522     40833  Defaulted  artial Settlement\n",
       "12847   28668  Defaulted  artial Settlement\n",
       "12848    2382  Defaulted  artial Settlement"
      ]
     },
     "execution_count": 8,
     "metadata": {},
     "output_type": "execute_result"
    }
   ],
   "source": [
    "loans_df.loc[loans_df['default_reason']==\"artial Settlement\"][['LoanID','LoanStatus','default_reason']].head(3)"
   ]
  },
  {
   "cell_type": "code",
   "execution_count": 9,
   "metadata": {},
   "outputs": [],
   "source": [
    "loans_df.loc[loans_df['default_reason']==\"artial Settlement\", \"default_reason\"] = \"Partial Settlement\""
   ]
  },
  {
   "cell_type": "markdown",
   "metadata": {},
   "source": [
    "### c) Remove duplicates"
   ]
  },
  {
   "cell_type": "code",
   "execution_count": 10,
   "metadata": {},
   "outputs": [
    {
     "data": {
      "text/html": [
       "<div>\n",
       "<style scoped>\n",
       "    .dataframe tbody tr th:only-of-type {\n",
       "        vertical-align: middle;\n",
       "    }\n",
       "\n",
       "    .dataframe tbody tr th {\n",
       "        vertical-align: top;\n",
       "    }\n",
       "\n",
       "    .dataframe thead th {\n",
       "        text-align: right;\n",
       "    }\n",
       "</style>\n",
       "<table border=\"1\" class=\"dataframe\">\n",
       "  <thead>\n",
       "    <tr style=\"text-align: right;\">\n",
       "      <th></th>\n",
       "      <th>LoanID</th>\n",
       "      <th>BorrowerID</th>\n",
       "      <th>LoanPurpose</th>\n",
       "      <th>LoanStatus</th>\n",
       "      <th>RepaymentStatus</th>\n",
       "      <th>default_reason</th>\n",
       "      <th>StartDate</th>\n",
       "      <th>Amount</th>\n",
       "      <th>grossrate</th>\n",
       "      <th>PrincipalOutstanding</th>\n",
       "      <th>term</th>\n",
       "      <th>MaturityDate</th>\n",
       "    </tr>\n",
       "  </thead>\n",
       "  <tbody>\n",
       "  </tbody>\n",
       "</table>\n",
       "</div>"
      ],
      "text/plain": [
       "Empty DataFrame\n",
       "Columns: [LoanID, BorrowerID, LoanPurpose, LoanStatus, RepaymentStatus, default_reason, StartDate, Amount, grossrate, PrincipalOutstanding, term, MaturityDate]\n",
       "Index: []"
      ]
     },
     "execution_count": 10,
     "metadata": {},
     "output_type": "execute_result"
    }
   ],
   "source": [
    "loans_df[loans_df.duplicated('LoanID', keep=False)] # No duplicated loans with the same ID\n",
    "\n",
    "loans_df[loans_df.duplicated(keep=False)] # No duplicated entries"
   ]
  },
  {
   "cell_type": "markdown",
   "metadata": {},
   "source": [
    "## 2. Converting columns to appropriate data types"
   ]
  },
  {
   "cell_type": "code",
   "execution_count": 11,
   "metadata": {},
   "outputs": [
    {
     "data": {
      "text/plain": [
       "LoanID                           int64\n",
       "BorrowerID                       int64\n",
       "LoanPurpose                     object\n",
       "LoanStatus                      object\n",
       "RepaymentStatus                 object\n",
       "default_reason                  object\n",
       "StartDate                       object\n",
       "Amount                         float64\n",
       "grossrate                      float64\n",
       "PrincipalOutstanding           float64\n",
       "term                             int64\n",
       "MaturityDate            datetime64[ns]\n",
       "dtype: object"
      ]
     },
     "execution_count": 11,
     "metadata": {},
     "output_type": "execute_result"
    }
   ],
   "source": [
    "loans_df.dtypes ## Only the \"StartDate\" column needs to be converted to datetime"
   ]
  },
  {
   "cell_type": "markdown",
   "metadata": {},
   "source": [
    "### a) StartDate of Loans"
   ]
  },
  {
   "cell_type": "code",
   "execution_count": 12,
   "metadata": {},
   "outputs": [
    {
     "data": {
      "text/html": [
       "<div>\n",
       "<style scoped>\n",
       "    .dataframe tbody tr th:only-of-type {\n",
       "        vertical-align: middle;\n",
       "    }\n",
       "\n",
       "    .dataframe tbody tr th {\n",
       "        vertical-align: top;\n",
       "    }\n",
       "\n",
       "    .dataframe thead th {\n",
       "        text-align: right;\n",
       "    }\n",
       "</style>\n",
       "<table border=\"1\" class=\"dataframe\">\n",
       "  <thead>\n",
       "    <tr style=\"text-align: right;\">\n",
       "      <th></th>\n",
       "      <th>LoanID</th>\n",
       "      <th>BorrowerID</th>\n",
       "      <th>LoanPurpose</th>\n",
       "      <th>LoanStatus</th>\n",
       "      <th>RepaymentStatus</th>\n",
       "      <th>default_reason</th>\n",
       "      <th>StartDate</th>\n",
       "      <th>Amount</th>\n",
       "      <th>grossrate</th>\n",
       "      <th>PrincipalOutstanding</th>\n",
       "      <th>term</th>\n",
       "      <th>MaturityDate</th>\n",
       "    </tr>\n",
       "  </thead>\n",
       "  <tbody>\n",
       "    <tr>\n",
       "      <th>0</th>\n",
       "      <td>42371</td>\n",
       "      <td>4427454</td>\n",
       "      <td>Personal Loan</td>\n",
       "      <td>Active</td>\n",
       "      <td>Repaying</td>\n",
       "      <td>NaN</td>\n",
       "      <td>08/11/2021</td>\n",
       "      <td>21000.0</td>\n",
       "      <td>4.00157</td>\n",
       "      <td>20480.46</td>\n",
       "      <td>36</td>\n",
       "      <td>2024-11-08</td>\n",
       "    </tr>\n",
       "  </tbody>\n",
       "</table>\n",
       "</div>"
      ],
      "text/plain": [
       "   LoanID  BorrowerID    LoanPurpose LoanStatus RepaymentStatus  \\\n",
       "0   42371     4427454  Personal Loan     Active        Repaying   \n",
       "\n",
       "  default_reason   StartDate   Amount  grossrate  PrincipalOutstanding  term  \\\n",
       "0            NaN  08/11/2021  21000.0    4.00157              20480.46    36   \n",
       "\n",
       "  MaturityDate  \n",
       "0   2024-11-08  "
      ]
     },
     "execution_count": 12,
     "metadata": {},
     "output_type": "execute_result"
    }
   ],
   "source": [
    "loans_df.head(1)"
   ]
  },
  {
   "cell_type": "code",
   "execution_count": 13,
   "metadata": {},
   "outputs": [],
   "source": [
    "loans_df['StartDate']= pd.to_datetime(loans_df['StartDate'], dayfirst=True)"
   ]
  },
  {
   "cell_type": "code",
   "execution_count": 14,
   "metadata": {},
   "outputs": [
    {
     "data": {
      "text/html": [
       "<div>\n",
       "<style scoped>\n",
       "    .dataframe tbody tr th:only-of-type {\n",
       "        vertical-align: middle;\n",
       "    }\n",
       "\n",
       "    .dataframe tbody tr th {\n",
       "        vertical-align: top;\n",
       "    }\n",
       "\n",
       "    .dataframe thead th {\n",
       "        text-align: right;\n",
       "    }\n",
       "</style>\n",
       "<table border=\"1\" class=\"dataframe\">\n",
       "  <thead>\n",
       "    <tr style=\"text-align: right;\">\n",
       "      <th></th>\n",
       "      <th>LoanID</th>\n",
       "      <th>BorrowerID</th>\n",
       "      <th>LoanPurpose</th>\n",
       "      <th>LoanStatus</th>\n",
       "      <th>RepaymentStatus</th>\n",
       "      <th>default_reason</th>\n",
       "      <th>StartDate</th>\n",
       "      <th>Amount</th>\n",
       "      <th>grossrate</th>\n",
       "      <th>PrincipalOutstanding</th>\n",
       "      <th>term</th>\n",
       "      <th>MaturityDate</th>\n",
       "    </tr>\n",
       "  </thead>\n",
       "  <tbody>\n",
       "    <tr>\n",
       "      <th>0</th>\n",
       "      <td>42371</td>\n",
       "      <td>4427454</td>\n",
       "      <td>Personal Loan</td>\n",
       "      <td>Active</td>\n",
       "      <td>Repaying</td>\n",
       "      <td>NaN</td>\n",
       "      <td>2021-11-08</td>\n",
       "      <td>21000.0</td>\n",
       "      <td>4.00157</td>\n",
       "      <td>20480.46</td>\n",
       "      <td>36</td>\n",
       "      <td>2024-11-08</td>\n",
       "    </tr>\n",
       "  </tbody>\n",
       "</table>\n",
       "</div>"
      ],
      "text/plain": [
       "   LoanID  BorrowerID    LoanPurpose LoanStatus RepaymentStatus  \\\n",
       "0   42371     4427454  Personal Loan     Active        Repaying   \n",
       "\n",
       "  default_reason  StartDate   Amount  grossrate  PrincipalOutstanding  term  \\\n",
       "0            NaN 2021-11-08  21000.0    4.00157              20480.46    36   \n",
       "\n",
       "  MaturityDate  \n",
       "0   2024-11-08  "
      ]
     },
     "execution_count": 14,
     "metadata": {},
     "output_type": "execute_result"
    }
   ],
   "source": [
    "loans_df.head(1)"
   ]
  },
  {
   "cell_type": "markdown",
   "metadata": {},
   "source": [
    "## 3. Calculating number of days that loans were paid off/defaulted earlier than intended maturity date"
   ]
  },
  {
   "cell_type": "code",
   "execution_count": 15,
   "metadata": {},
   "outputs": [
    {
     "data": {
      "text/html": [
       "<div>\n",
       "<style scoped>\n",
       "    .dataframe tbody tr th:only-of-type {\n",
       "        vertical-align: middle;\n",
       "    }\n",
       "\n",
       "    .dataframe tbody tr th {\n",
       "        vertical-align: top;\n",
       "    }\n",
       "\n",
       "    .dataframe thead th {\n",
       "        text-align: right;\n",
       "    }\n",
       "</style>\n",
       "<table border=\"1\" class=\"dataframe\">\n",
       "  <thead>\n",
       "    <tr style=\"text-align: right;\">\n",
       "      <th></th>\n",
       "      <th>LoanID</th>\n",
       "      <th>BorrowerID</th>\n",
       "      <th>LoanPurpose</th>\n",
       "      <th>LoanStatus</th>\n",
       "      <th>RepaymentStatus</th>\n",
       "      <th>default_reason</th>\n",
       "      <th>StartDate</th>\n",
       "      <th>Amount</th>\n",
       "      <th>grossrate</th>\n",
       "      <th>PrincipalOutstanding</th>\n",
       "      <th>term</th>\n",
       "      <th>MaturityDate</th>\n",
       "      <th>DaysEarly</th>\n",
       "    </tr>\n",
       "  </thead>\n",
       "  <tbody>\n",
       "    <tr>\n",
       "      <th>33360</th>\n",
       "      <td>23734</td>\n",
       "      <td>946848</td>\n",
       "      <td>Sole Trader</td>\n",
       "      <td>Defaulted</td>\n",
       "      <td>Defaulted</td>\n",
       "      <td>Non-Payment</td>\n",
       "      <td>2018-12-14</td>\n",
       "      <td>5278.0</td>\n",
       "      <td>5.0011</td>\n",
       "      <td>2883.57</td>\n",
       "      <td>36</td>\n",
       "      <td>2021-03-31</td>\n",
       "      <td>258.0</td>\n",
       "    </tr>\n",
       "  </tbody>\n",
       "</table>\n",
       "</div>"
      ],
      "text/plain": [
       "       LoanID  BorrowerID  LoanPurpose LoanStatus RepaymentStatus  \\\n",
       "33360   23734      946848  Sole Trader  Defaulted       Defaulted   \n",
       "\n",
       "      default_reason  StartDate  Amount  grossrate  PrincipalOutstanding  \\\n",
       "33360    Non-Payment 2018-12-14  5278.0     5.0011               2883.57   \n",
       "\n",
       "       term MaturityDate  DaysEarly  \n",
       "33360    36   2021-03-31      258.0  "
      ]
     },
     "execution_count": 15,
     "metadata": {},
     "output_type": "execute_result"
    }
   ],
   "source": [
    "def get_days_early(start, end, term):\n",
    "    mat_date = start + relativedelta(months=term)\n",
    "    \n",
    "    return (mat_date - end).days\n",
    "\n",
    "loans_df.loc[loans_df['LoanStatus'] != \"Active\", 'DaysEarly'] = loans_df.apply(lambda row: get_days_early(row['StartDate'], row['MaturityDate'], row['term']), axis=1)\n",
    "\n",
    "loans_df.loc[loans_df['LoanID']==23734]"
   ]
  },
  {
   "cell_type": "markdown",
   "metadata": {},
   "source": [
    "## 4. Inaccuracies\n",
    "\n",
    "### a) Settled loans with outstanding principal balances"
   ]
  },
  {
   "cell_type": "markdown",
   "metadata": {},
   "source": [
    "Could be due to paying off debts earlier than loan's term, so outstanding balance was not updated. Could also be due to debt forgiveness."
   ]
  },
  {
   "cell_type": "code",
   "execution_count": 16,
   "metadata": {},
   "outputs": [
    {
     "data": {
      "text/html": [
       "<div>\n",
       "<style scoped>\n",
       "    .dataframe tbody tr th:only-of-type {\n",
       "        vertical-align: middle;\n",
       "    }\n",
       "\n",
       "    .dataframe tbody tr th {\n",
       "        vertical-align: top;\n",
       "    }\n",
       "\n",
       "    .dataframe thead th {\n",
       "        text-align: right;\n",
       "    }\n",
       "</style>\n",
       "<table border=\"1\" class=\"dataframe\">\n",
       "  <thead>\n",
       "    <tr style=\"text-align: right;\">\n",
       "      <th></th>\n",
       "      <th>LoanID</th>\n",
       "      <th>LoanStatus</th>\n",
       "      <th>PrincipalOutstanding</th>\n",
       "      <th>DaysEarly</th>\n",
       "    </tr>\n",
       "  </thead>\n",
       "  <tbody>\n",
       "    <tr>\n",
       "      <th>31</th>\n",
       "      <td>41350</td>\n",
       "      <td>Settled</td>\n",
       "      <td>2000.87</td>\n",
       "      <td>234.0</td>\n",
       "    </tr>\n",
       "    <tr>\n",
       "      <th>76</th>\n",
       "      <td>41277</td>\n",
       "      <td>Settled</td>\n",
       "      <td>3993.30</td>\n",
       "      <td>1319.0</td>\n",
       "    </tr>\n",
       "    <tr>\n",
       "      <th>169</th>\n",
       "      <td>41190</td>\n",
       "      <td>Settled</td>\n",
       "      <td>6649.67</td>\n",
       "      <td>953.0</td>\n",
       "    </tr>\n",
       "    <tr>\n",
       "      <th>287</th>\n",
       "      <td>41053</td>\n",
       "      <td>Settled</td>\n",
       "      <td>1988.28</td>\n",
       "      <td>1661.0</td>\n",
       "    </tr>\n",
       "    <tr>\n",
       "      <th>349</th>\n",
       "      <td>41005</td>\n",
       "      <td>Settled</td>\n",
       "      <td>11826.68</td>\n",
       "      <td>935.0</td>\n",
       "    </tr>\n",
       "  </tbody>\n",
       "</table>\n",
       "</div>"
      ],
      "text/plain": [
       "     LoanID LoanStatus  PrincipalOutstanding  DaysEarly\n",
       "31    41350    Settled               2000.87      234.0\n",
       "76    41277    Settled               3993.30     1319.0\n",
       "169   41190    Settled               6649.67      953.0\n",
       "287   41053    Settled               1988.28     1661.0\n",
       "349   41005    Settled              11826.68      935.0"
      ]
     },
     "execution_count": 16,
     "metadata": {},
     "output_type": "execute_result"
    }
   ],
   "source": [
    "loans_df.loc[(loans_df['LoanStatus']==\"Settled\") & (loans_df['PrincipalOutstanding']>0)][['LoanID','LoanStatus','PrincipalOutstanding','DaysEarly']].head(5)"
   ]
  },
  {
   "cell_type": "code",
   "execution_count": 17,
   "metadata": {},
   "outputs": [],
   "source": [
    "loans_df.loc[(loans_df['LoanStatus']==\"Settled\") & (loans_df['PrincipalOutstanding']>0),'PrincipalOutstanding'] = 0"
   ]
  },
  {
   "cell_type": "markdown",
   "metadata": {},
   "source": [
    "## 5. Group loans for each borrower and create borrowers dataframe\n",
    "Store aggregated:\n",
    "- sums of borrowed funds and outstanding balance in debit\n",
    "- number of active, settled, and defaulted loans\n",
    "- number of loans with delinquent payments"
   ]
  },
  {
   "cell_type": "code",
   "execution_count": 18,
   "metadata": {},
   "outputs": [
    {
     "data": {
      "text/plain": [
       "BorrowerID          int64\n",
       "total_loans         int64\n",
       "total_borrowed    float64\n",
       "balance           float64\n",
       "active              int64\n",
       "settled             int64\n",
       "defaults            int64\n",
       "delinquencies       int64\n",
       "dtype: object"
      ]
     },
     "execution_count": 18,
     "metadata": {},
     "output_type": "execute_result"
    }
   ],
   "source": [
    "borrowers_df = loans_df.groupby('BorrowerID').agg(total_loans = ('LoanID', 'count'),\n",
    "                                                  total_borrowed = ('Amount','sum'),\n",
    "                                                  balance = ('PrincipalOutstanding','sum'),\n",
    "                                                  active = ('LoanStatus', lambda x: x[x.str.contains('Active')].count()),\n",
    "                                                  settled = ('LoanStatus', lambda x: x[x.str.contains('Settled')].count()),\n",
    "                                                  defaults = ('LoanStatus', lambda x: x[x.str.contains('Defaulted')].count()),\n",
    "                                                  delinquencies = ('RepaymentStatus', lambda x: x[x.str.contains('Late')].count())).reset_index()\n",
    "\n",
    "borrowers_df.dtypes"
   ]
  },
  {
   "cell_type": "markdown",
   "metadata": {},
   "source": [
    "## Export new dataframes to seperate CSV files"
   ]
  },
  {
   "cell_type": "code",
   "execution_count": 19,
   "metadata": {},
   "outputs": [],
   "source": [
    "loans_df.to_csv('Loans_Data.csv', sep=\"\\t\", index=False)\n",
    "borrowers_df.to_csv('Borrowers_Data.csv', sep=\"\\t\", index=False)"
   ]
  },
  {
   "cell_type": "code",
   "execution_count": null,
   "metadata": {},
   "outputs": [],
   "source": []
  }
 ],
 "metadata": {
  "kernelspec": {
   "display_name": "Python 3",
   "language": "python",
   "name": "python3"
  },
  "language_info": {
   "codemirror_mode": {
    "name": "ipython",
    "version": 3
   },
   "file_extension": ".py",
   "mimetype": "text/x-python",
   "name": "python",
   "nbconvert_exporter": "python",
   "pygments_lexer": "ipython3",
   "version": "3.7.6"
  }
 },
 "nbformat": 4,
 "nbformat_minor": 4
}
